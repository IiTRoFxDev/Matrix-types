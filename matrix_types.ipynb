{
 "cells": [
  {
   "cell_type": "markdown",
   "metadata": {},
   "source": [
    "# eye matrix"
   ]
  },
  {
   "cell_type": "code",
   "execution_count": 22,
   "metadata": {},
   "outputs": [
    {
     "name": "stdout",
     "output_type": "stream",
     "text": [
      "[1, 0, 0, 0, 0]\n",
      "[0, 1, 0, 0, 0]\n",
      "[0, 0, 1, 0, 0]\n",
      "[0, 0, 0, 1, 0]\n",
      "[0, 0, 0, 0, 1]\n"
     ]
    }
   ],
   "source": [
    "n = 5\n",
    "res = []\n",
    "for i in range(n):\n",
    "    res.append([0]*(n))\n",
    "    res[i][i] = 1\n",
    "for i in res:\n",
    "    print(i)"
   ]
  },
  {
   "cell_type": "markdown",
   "metadata": {},
   "source": [
    "# diagonal matrix"
   ]
  },
  {
   "cell_type": "code",
   "execution_count": 16,
   "metadata": {},
   "outputs": [
    {
     "name": "stdout",
     "output_type": "stream",
     "text": [
      "[1, 0, 0, 0]\n",
      "[0, 2, 0, 0]\n",
      "[0, 0, 3, 0]\n",
      "[0, 0, 0, 4]\n"
     ]
    }
   ],
   "source": [
    "res = []\n",
    "diag = [1 , 2 ,3 , 4]\n",
    "for i in range(len(diag)):\n",
    "    res.append([0]*(len(diag)))\n",
    "    res[i][i] = diag[i]\n",
    "for i in res:\n",
    "    print(i)"
   ]
  },
  {
   "cell_type": "markdown",
   "metadata": {},
   "source": [
    "# ones matrix"
   ]
  },
  {
   "cell_type": "code",
   "execution_count": null,
   "metadata": {},
   "outputs": [
    {
     "name": "stdout",
     "output_type": "stream",
     "text": [
      "[1, 1, 1]\n",
      "[1, 1, 1]\n",
      "[1, 1, 1]\n"
     ]
    }
   ],
   "source": [
    "res = []\n",
    "dim = [2 ,3]\n",
    "for row in range(dim[0]+1):\n",
    "    res.append([1]*dim[1])\n",
    "for i in res:\n",
    "    print(i)"
   ]
  },
  {
   "cell_type": "markdown",
   "metadata": {},
   "source": [
    "# identity matrix"
   ]
  },
  {
   "cell_type": "code",
   "execution_count": 8,
   "metadata": {},
   "outputs": [
    {
     "name": "stdout",
     "output_type": "stream",
     "text": [
      "[1, 1, 1, 1, 1, 1]\n",
      "[1, 1, 1, 1, 1, 1]\n",
      "[1, 1, 1, 1, 1, 1]\n",
      "[1, 1, 1, 1, 1, 1]\n",
      "[1, 1, 1, 1, 1, 1]\n",
      "[1, 1, 1, 1, 1, 1]\n"
     ]
    }
   ],
   "source": [
    "res = []\n",
    "n = 6\n",
    "for i in range(n):\n",
    "    res.append([1]*(n))\n",
    "for i in res:\n",
    "    print(i)"
   ]
  },
  {
   "cell_type": "markdown",
   "metadata": {},
   "source": [
    "# zeros matrix"
   ]
  },
  {
   "cell_type": "code",
   "execution_count": 9,
   "metadata": {},
   "outputs": [
    {
     "name": "stdout",
     "output_type": "stream",
     "text": [
      "[0, 0, 0, 0, 0, 0]\n",
      "[0, 0, 0, 0, 0, 0]\n",
      "[0, 0, 0, 0, 0, 0]\n",
      "[0, 0, 0, 0, 0, 0]\n",
      "[0, 0, 0, 0, 0, 0]\n",
      "[0, 0, 0, 0, 0, 0]\n"
     ]
    }
   ],
   "source": [
    "n = 6\n",
    "res = []\n",
    "for i in range(n):\n",
    "    res.append([0]*(n))\n",
    "for i in res:\n",
    "    print(i)"
   ]
  },
  {
   "cell_type": "markdown",
   "metadata": {},
   "source": [
    "# arange"
   ]
  },
  {
   "cell_type": "code",
   "execution_count": null,
   "metadata": {},
   "outputs": [
    {
     "name": "stdout",
     "output_type": "stream",
     "text": [
      "1\n",
      "1.1\n",
      "1.2000000000000002\n",
      "1.3000000000000003\n",
      "1.4000000000000004\n",
      "1.5000000000000004\n",
      "1.6000000000000005\n",
      "1.7000000000000006\n",
      "1.8000000000000007\n",
      "1.9000000000000008\n",
      "2.000000000000001\n",
      "2.100000000000001\n",
      "2.200000000000001\n",
      "2.300000000000001\n",
      "2.4000000000000012\n",
      "2.5000000000000013\n",
      "2.6000000000000014\n",
      "2.7000000000000015\n",
      "2.8000000000000016\n",
      "2.9000000000000017\n",
      "3.0000000000000018\n",
      "3.100000000000002\n",
      "3.200000000000002\n",
      "3.300000000000002\n",
      "3.400000000000002\n",
      "3.500000000000002\n",
      "3.6000000000000023\n",
      "3.7000000000000024\n",
      "3.8000000000000025\n",
      "3.9000000000000026\n",
      "4.000000000000003\n",
      "4.100000000000002\n",
      "4.200000000000002\n",
      "4.300000000000002\n",
      "4.400000000000001\n",
      "4.500000000000001\n",
      "4.6000000000000005\n",
      "4.7\n",
      "4.8\n",
      "4.8999999999999995\n",
      "4.999999999999999\n"
     ]
    }
   ],
   "source": [
    "res = []\n",
    "arange = [1 , 5 , 0.1] \n",
    "#start , end , step\n",
    "a = arange[0]\n",
    "res = [a]\n",
    "while True:\n",
    "    if a+arange[2] < arange[1]:\n",
    "        a+=arange[2]\n",
    "        res.append(a)\n",
    "    else:\n",
    "        break\n",
    "for i in res:\n",
    "    print(i)"
   ]
  },
  {
   "cell_type": "markdown",
   "metadata": {},
   "source": [
    "# reshape matrix"
   ]
  },
  {
   "cell_type": "code",
   "execution_count": 37,
   "metadata": {},
   "outputs": [
    {
     "name": "stdout",
     "output_type": "stream",
     "text": [
      "[0, 1, 2]\n",
      "[3, 4, 5]\n",
      "[6, 7, 8]\n"
     ]
    }
   ],
   "source": [
    "n = 6\n",
    "res = []\n",
    "data = list(range(9))\n",
    "reshap = [3,3]\n",
    "res = []\n",
    "if len(data) == reshap[0]*reshap[1]:\n",
    "    counter = 0\n",
    "    for i in range(reshap[0]):\n",
    "        res.append([])\n",
    "        for x in range(reshap[1]):\n",
    "            res[i].append(data[counter])\n",
    "            counter+=1\n",
    "for i in res:\n",
    "    print(i)"
   ]
  }
 ],
 "metadata": {
  "kernelspec": {
   "display_name": "Python 3",
   "language": "python",
   "name": "python3"
  },
  "language_info": {
   "codemirror_mode": {
    "name": "ipython",
    "version": 3
   },
   "file_extension": ".py",
   "mimetype": "text/x-python",
   "name": "python",
   "nbconvert_exporter": "python",
   "pygments_lexer": "ipython3",
   "version": "3.10.10"
  }
 },
 "nbformat": 4,
 "nbformat_minor": 2
}
